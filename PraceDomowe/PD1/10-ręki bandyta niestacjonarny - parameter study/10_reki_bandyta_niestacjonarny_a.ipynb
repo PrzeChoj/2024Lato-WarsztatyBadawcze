{
 "cells": [
  {
   "cell_type": "markdown",
   "source": [
    "## 10 ręki bandyta niestacjonarny dla algorytmu UCB ze zmiennym parametrem C\n",
    "#### Krzysztof Sawicki"
   ],
   "metadata": {
    "collapsed": false
   },
   "id": "983717e6361b56bf"
  },
  {
   "cell_type": "code",
   "outputs": [],
   "source": [
    "from pylab import *\n",
    "import matplotlib.pyplot as plt\n",
    "import numpy as np"
   ],
   "metadata": {
    "collapsed": true,
    "ExecuteTime": {
     "end_time": "2024-03-05T22:24:31.060088Z",
     "start_time": "2024-03-05T22:24:30.737699900Z"
    }
   },
   "id": "initial_id",
   "execution_count": 4
  },
  {
   "cell_type": "code",
   "outputs": [],
   "source": [
    "class Arm:\n",
    "\n",
    "    def __init__(self, meanReturn, varianceReturn):\n",
    "        self.meanReturn = meanReturn\n",
    "        self.varianceReturn = varianceReturn\n",
    "    \n",
    "    # dla niestacjonarnosci\n",
    "    def walk(self, meanStep, varianceStep):\n",
    "        delta_mean = normal(meanStep, varianceStep)\n",
    "        self.meanReturn += delta_mean\n",
    "        return delta_mean\n",
    "    \n",
    "    #losujemy nagrode z maszyny\n",
    "    def pull(self):\n",
    "        award = self.meanReturn\n",
    "        if self.varianceReturn > 0:\n",
    "            award = normal(self.meanReturn, self.varianceReturn) \n",
    "        return award"
   ],
   "metadata": {
    "collapsed": false,
    "ExecuteTime": {
     "end_time": "2024-03-05T22:40:38.587361Z",
     "start_time": "2024-03-05T22:40:38.399776300Z"
    }
   },
   "id": "d542b6ea57ebbbdc",
   "execution_count": 5
  },
  {
   "cell_type": "code",
   "outputs": [],
   "source": [
    "class Bandit:\n",
    "\n",
    "    def __init__(self, numberOfArms, armMean, variance):\n",
    "        self.numberOfArms = numberOfArms\n",
    "        self.armMean = armMean\n",
    "        self.variance = variance\n",
    "        self.arms = []\n",
    "        for arm in range(numberOfArms):\n",
    "            arm = Arm(0, variance)\n",
    "            self.arms.append(arm)\n",
    "\n",
    "    def reset(self):\n",
    "        self.arms = []\n",
    "        for arm in range(self.numberOfArms):\n",
    "            arm = Arm(0, self.variance)\n",
    "            self.arms.append(arm)\n",
    "\n",
    "    # dla niestacjonarnosci\n",
    "    def walk(self, meanStep=0, varianceStep=0.01):\n",
    "        for arm in self.arms:\n",
    "            arm.walk(meanStep, varianceStep)\n",
    "\n",
    "    def pull(self, armIndex):\n",
    "        return self.arms[armIndex].pull()"
   ],
   "metadata": {
    "collapsed": false,
    "ExecuteTime": {
     "end_time": "2024-03-05T22:41:21.723406400Z",
     "start_time": "2024-03-05T22:41:21.410753500Z"
    }
   },
   "id": "f093066fbff5c51e",
   "execution_count": 6
  },
  {
   "cell_type": "code",
   "outputs": [],
   "source": [
    "class UCB:\n",
    "\n",
    "    def __init__(self, bandit, c, alpha):\n",
    "        self.bandit = bandit\n",
    "        self.numberOfArms = len(self.bandit.arms)\n",
    "        self.numberOfPullsArray = [0] * self.numberOfArms\n",
    "        self.numberOfPulls = 0\n",
    "        self.Q = [0.0] * self.numberOfArms\n",
    "        self.c = c\n",
    "        self.alpha = alpha\n",
    "\n",
    "    def learn(self, reward, armIndex):\n",
    "\n",
    "        self.numberOfPullsArray[armIndex] += 1\n",
    "        self.numberOfPulls += 1\n",
    "        if (self.alpha == -1):\n",
    "            stepSize = 1 / self.numberOfPullsArray[armIndex]\n",
    "        else:\n",
    "            stepSize = self.alpha\n",
    "        self.Q[armIndex] += stepSize * (reward - self.Q[armIndex])\n",
    "\n",
    "    def policy(self):\n",
    "\n",
    "        A = []\n",
    "        for i in range(self.numberOfArms):\n",
    "            if self.numberOfPullsArray[i] > 0:\n",
    "            #obliczamy górny przedział ufnośći\n",
    "                val = self.Q[i] + self.c * np.sqrt((np.log(self.numberOfPulls) / self.numberOfPullsArray[i]))\n",
    "            #jesli nie odwiedzilismy danej maszyny to ją odwiedzamy\n",
    "            else:\n",
    "                val = 10000\n",
    "            A.append(val)\n",
    "        armIndex = argmax(A)\n",
    "        return armIndex\n",
    "\n",
    "    def reset(self):\n",
    "        self.Q = [0.0] * self.numberOfArms\n",
    "        self.numberOfPullsArray = [0] * self.numberOfArms\n",
    "        self.numberOfPulls = 0"
   ],
   "metadata": {
    "collapsed": false,
    "ExecuteTime": {
     "end_time": "2024-03-05T22:41:31.515351900Z",
     "start_time": "2024-03-05T22:41:31.199856200Z"
    }
   },
   "id": "d22b0c2b75784084",
   "execution_count": 7
  },
  {
   "cell_type": "code",
   "outputs": [],
   "source": [
    "def testUCB(runs, pulls, c, alpha):\n",
    "\n",
    "    bandit = Bandit(10, 0, 1)\n",
    "    ucb = UCB(bandit, c, alpha)\n",
    "    reward_array = [0.0] * pulls\n",
    "\n",
    "    for run in range(runs):\n",
    "        ucb.reset()\n",
    "        if run % 100 == 0:\n",
    "            print(\"Run number \" + str(run) + f\" for c: {ucb.c}\")\n",
    "\n",
    "        for pull in range(pulls):\n",
    "\n",
    "            arm = ucb.policy()\n",
    "            reward = bandit.pull(arm)\n",
    "            ucb.learn(reward, arm)\n",
    "            step_size = 1 / (run + 1)\n",
    "            reward_array[pull] += step_size * (reward - reward_array[pull])\n",
    "            bandit.walk()\n",
    "                \n",
    "        bandit.reset()\n",
    "\n",
    "    return reward_array"
   ],
   "metadata": {
    "collapsed": false,
    "ExecuteTime": {
     "end_time": "2024-03-05T22:41:57.777151300Z",
     "start_time": "2024-03-05T22:41:57.461897600Z"
    }
   },
   "id": "d5f814c00f1daffc",
   "execution_count": 8
  },
  {
   "cell_type": "code",
   "outputs": [],
   "source": [
    "c_values = [1/16, 1/8, 1/4, 1/2, 1, 2, 4]"
   ],
   "metadata": {
    "collapsed": false,
    "ExecuteTime": {
     "end_time": "2024-03-05T22:41:59.743065900Z",
     "start_time": "2024-03-05T22:41:59.679467500Z"
    }
   },
   "id": "72b03427f5a84dca",
   "execution_count": 9
  },
  {
   "cell_type": "code",
   "outputs": [
    {
     "name": "stdout",
     "output_type": "stream",
     "text": [
      "Run number 0 for c: 0.0625\n",
      "Run number 100 for c: 0.0625\n",
      "Run number 200 for c: 0.0625\n",
      "Run number 300 for c: 0.0625\n",
      "Run number 400 for c: 0.0625\n",
      "Run number 500 for c: 0.0625\n",
      "Run number 600 for c: 0.0625\n",
      "Run number 700 for c: 0.0625\n",
      "Run number 800 for c: 0.0625\n",
      "Run number 900 for c: 0.0625\n",
      "Run number 1000 for c: 0.0625\n",
      "Run number 1100 for c: 0.0625\n",
      "Run number 1200 for c: 0.0625\n",
      "Run number 1300 for c: 0.0625\n",
      "Run number 1400 for c: 0.0625\n",
      "Run number 1500 for c: 0.0625\n",
      "Run number 1600 for c: 0.0625\n",
      "Run number 1700 for c: 0.0625\n",
      "Run number 1800 for c: 0.0625\n",
      "Run number 1900 for c: 0.0625\n",
      "0.1958142826082103\n",
      "Run number 0 for c: 0.125\n",
      "Run number 100 for c: 0.125\n",
      "Run number 200 for c: 0.125\n",
      "Run number 300 for c: 0.125\n",
      "Run number 400 for c: 0.125\n",
      "Run number 500 for c: 0.125\n",
      "Run number 600 for c: 0.125\n",
      "Run number 700 for c: 0.125\n",
      "Run number 800 for c: 0.125\n",
      "Run number 900 for c: 0.125\n",
      "Run number 1000 for c: 0.125\n",
      "Run number 1100 for c: 0.125\n",
      "Run number 1200 for c: 0.125\n",
      "Run number 1300 for c: 0.125\n",
      "Run number 1400 for c: 0.125\n",
      "Run number 1500 for c: 0.125\n",
      "Run number 1600 for c: 0.125\n",
      "Run number 1700 for c: 0.125\n",
      "Run number 1800 for c: 0.125\n",
      "Run number 1900 for c: 0.125\n",
      "0.19453215413776725\n",
      "Run number 0 for c: 0.25\n",
      "Run number 100 for c: 0.25\n",
      "Run number 200 for c: 0.25\n",
      "Run number 300 for c: 0.25\n",
      "Run number 400 for c: 0.25\n",
      "Run number 500 for c: 0.25\n",
      "Run number 600 for c: 0.25\n",
      "Run number 700 for c: 0.25\n",
      "Run number 800 for c: 0.25\n",
      "Run number 900 for c: 0.25\n",
      "Run number 1000 for c: 0.25\n",
      "Run number 1100 for c: 0.25\n",
      "Run number 1200 for c: 0.25\n",
      "Run number 1300 for c: 0.25\n",
      "Run number 1400 for c: 0.25\n",
      "Run number 1500 for c: 0.25\n",
      "Run number 1600 for c: 0.25\n",
      "Run number 1700 for c: 0.25\n",
      "Run number 1800 for c: 0.25\n",
      "Run number 1900 for c: 0.25\n",
      "0.19086327894065303\n",
      "Run number 0 for c: 0.5\n",
      "Run number 100 for c: 0.5\n",
      "Run number 200 for c: 0.5\n",
      "Run number 300 for c: 0.5\n",
      "Run number 400 for c: 0.5\n",
      "Run number 500 for c: 0.5\n",
      "Run number 600 for c: 0.5\n",
      "Run number 700 for c: 0.5\n",
      "Run number 800 for c: 0.5\n",
      "Run number 900 for c: 0.5\n",
      "Run number 1000 for c: 0.5\n",
      "Run number 1100 for c: 0.5\n",
      "Run number 1200 for c: 0.5\n",
      "Run number 1300 for c: 0.5\n",
      "Run number 1400 for c: 0.5\n",
      "Run number 1500 for c: 0.5\n",
      "Run number 1600 for c: 0.5\n",
      "Run number 1700 for c: 0.5\n",
      "Run number 1800 for c: 0.5\n",
      "Run number 1900 for c: 0.5\n",
      "0.1862130402869157\n",
      "Run number 0 for c: 1\n",
      "Run number 100 for c: 1\n",
      "Run number 200 for c: 1\n",
      "Run number 300 for c: 1\n",
      "Run number 400 for c: 1\n",
      "Run number 500 for c: 1\n",
      "Run number 600 for c: 1\n",
      "Run number 700 for c: 1\n",
      "Run number 800 for c: 1\n",
      "Run number 900 for c: 1\n",
      "Run number 1000 for c: 1\n",
      "Run number 1100 for c: 1\n",
      "Run number 1200 for c: 1\n",
      "Run number 1300 for c: 1\n",
      "Run number 1400 for c: 1\n",
      "Run number 1500 for c: 1\n",
      "Run number 1600 for c: 1\n",
      "Run number 1700 for c: 1\n",
      "Run number 1800 for c: 1\n",
      "Run number 1900 for c: 1\n",
      "0.16710360649789816\n",
      "Run number 0 for c: 2\n",
      "Run number 100 for c: 2\n",
      "Run number 200 for c: 2\n",
      "Run number 300 for c: 2\n",
      "Run number 400 for c: 2\n",
      "Run number 500 for c: 2\n",
      "Run number 600 for c: 2\n",
      "Run number 700 for c: 2\n",
      "Run number 800 for c: 2\n",
      "Run number 900 for c: 2\n",
      "Run number 1000 for c: 2\n",
      "Run number 1100 for c: 2\n",
      "Run number 1200 for c: 2\n",
      "Run number 1300 for c: 2\n",
      "Run number 1400 for c: 2\n",
      "Run number 1500 for c: 2\n",
      "Run number 1600 for c: 2\n",
      "Run number 1700 for c: 2\n",
      "Run number 1800 for c: 2\n",
      "Run number 1900 for c: 2\n",
      "0.1351903159306185\n",
      "Run number 0 for c: 4\n",
      "Run number 100 for c: 4\n",
      "Run number 200 for c: 4\n",
      "Run number 300 for c: 4\n",
      "Run number 400 for c: 4\n",
      "Run number 500 for c: 4\n",
      "Run number 600 for c: 4\n",
      "Run number 700 for c: 4\n",
      "Run number 800 for c: 4\n",
      "Run number 900 for c: 4\n",
      "Run number 1000 for c: 4\n",
      "Run number 1100 for c: 4\n",
      "Run number 1200 for c: 4\n",
      "Run number 1300 for c: 4\n",
      "Run number 1400 for c: 4\n",
      "Run number 1500 for c: 4\n",
      "Run number 1600 for c: 4\n",
      "Run number 1700 for c: 4\n",
      "Run number 1800 for c: 4\n",
      "Run number 1900 for c: 4\n",
      "0.09385162201620435\n"
     ]
    }
   ],
   "source": [
    "rewards_list = []\n",
    "for c in c_values:\n",
    "    rewards = testUCB(runs = 2000,pulls = 1000, c=c, alpha=0.1)\n",
    "    mean_reward = mean(rewards)\n",
    "    print(mean_reward)\n",
    "    rewards_list.append(mean_reward)"
   ],
   "metadata": {
    "collapsed": false,
    "ExecuteTime": {
     "end_time": "2024-03-05T22:52:25.907398600Z",
     "start_time": "2024-03-05T22:42:08.102821900Z"
    }
   },
   "id": "65d8aee85fe23e73",
   "execution_count": 10
  },
  {
   "cell_type": "code",
   "outputs": [],
   "source": [
    "rewards_list_1k = rewards_list"
   ],
   "metadata": {
    "collapsed": false,
    "ExecuteTime": {
     "end_time": "2024-03-05T22:52:50.247945Z",
     "start_time": "2024-03-05T22:52:50.242938500Z"
    }
   },
   "id": "3f3a097689390cb6",
   "execution_count": 11
  },
  {
   "cell_type": "code",
   "outputs": [
    {
     "data": {
      "text/plain": "[0.1958142826082103,\n 0.19453215413776725,\n 0.19086327894065303,\n 0.1862130402869157,\n 0.16710360649789816,\n 0.1351903159306185,\n 0.09385162201620435]"
     },
     "execution_count": 12,
     "metadata": {},
     "output_type": "execute_result"
    }
   ],
   "source": [
    "rewards_list_1k"
   ],
   "metadata": {
    "collapsed": false,
    "ExecuteTime": {
     "end_time": "2024-03-05T22:52:58.582502700Z",
     "start_time": "2024-03-05T22:52:58.569537500Z"
    }
   },
   "id": "8d4c1cc26e3dab9d",
   "execution_count": 12
  },
  {
   "cell_type": "code",
   "outputs": [],
   "source": [
    "rewards_list = []\n",
    "for c in c_values:\n",
    "    rewards = testUCB(runs = 2000,pulls = 20000, c=c, alpha=0.1)\n",
    "    mean_reward = mean(rewards)\n",
    "    print(mean_reward)\n",
    "    rewards_list.append(mean_reward)"
   ],
   "metadata": {
    "collapsed": false
   },
   "id": "62d7827ae8459d73"
  },
  {
   "cell_type": "code",
   "outputs": [],
   "source": [
    "rewards_list_20k = rewards_list"
   ],
   "metadata": {
    "collapsed": false,
    "ExecuteTime": {
     "end_time": "2024-03-05T14:14:11.335055900Z",
     "start_time": "2024-03-05T14:14:11.324084500Z"
    }
   },
   "id": "5475b5b9895b7768",
   "execution_count": 69
  },
  {
   "cell_type": "code",
   "outputs": [
    {
     "data": {
      "text/plain": "[1.4285447958002098,\n 1.452990513414917,\n 1.476953948794343,\n 1.5172621805214488,\n 1.5340033756105804,\n 1.6013427561961213,\n 1.6479976595703523]"
     },
     "execution_count": 70,
     "metadata": {},
     "output_type": "execute_result"
    }
   ],
   "source": [
    "rewards_list_20k"
   ],
   "metadata": {
    "collapsed": false,
    "ExecuteTime": {
     "end_time": "2024-03-05T14:14:17.154026200Z",
     "start_time": "2024-03-05T14:14:17.143055200Z"
    }
   },
   "id": "78b8c3a8df131658",
   "execution_count": 70
  },
  {
   "cell_type": "markdown",
   "source": [
    "### Wykres dla 1000 pulli, run = 1k"
   ],
   "metadata": {
    "collapsed": false
   },
   "id": "c63ebb009a40727"
  },
  {
   "cell_type": "code",
   "outputs": [
    {
     "data": {
      "text/plain": "<Figure size 640x480 with 1 Axes>",
      "image/png": "[encoded data removed]"
     },
     "metadata": {},
     "output_type": "display_data"
    }
   ],
   "source": [
    "plt.figure()\n",
    "plt.semilogx(c_values, rewards_list_1k)\n",
    "plt.title('Average reward with diffrent C values')\n",
    "plt.xlabel('C')\n",
    "plt.xticks(c_values,c_values)\n",
    "plt.ylabel('Average award after 1000 pulls')\n",
    "plt.show()"
   ],
   "metadata": {
    "collapsed": false,
    "ExecuteTime": {
     "end_time": "2024-03-05T22:53:07.442051500Z",
     "start_time": "2024-03-05T22:53:07.157636100Z"
    }
   },
   "id": "d6b2a64d9352342f",
   "execution_count": 13
  },
  {
   "cell_type": "markdown",
   "source": [
    "### Wykres dla 20000 pulli, run = 2k"
   ],
   "metadata": {
    "collapsed": false
   },
   "id": "e70ce403b69d7219"
  },
  {
   "cell_type": "code",
   "outputs": [
    {
     "data": {
      "text/plain": "<Figure size 640x480 with 1 Axes>",
      "image/png": "[encoded data removed]"
     },
     "metadata": {},
     "output_type": "display_data"
    }
   ],
   "source": [
    "plt.figure()\n",
    "plt.semilogx(c_values, rewards_list_20k)\n",
    "plt.title('Average reward with diffrent C values on 20000 pulls')\n",
    "plt.xlabel('C')\n",
    "plt.xticks(c_values,c_values)\n",
    "plt.ylabel('Average award over last 10000 pulls')\n",
    "plt.show()"
   ],
   "metadata": {
    "collapsed": false,
    "ExecuteTime": {
     "end_time": "2024-03-05T14:14:44.170555200Z",
     "start_time": "2024-03-05T14:14:43.967207600Z"
    }
   },
   "id": "199f7efb94558396",
   "execution_count": 71
  }
 ],
 "metadata": {
  "kernelspec": {
   "display_name": "Python 3",
   "language": "python",
   "name": "python3"
  },
  "language_info": {
   "codemirror_mode": {
    "name": "ipython",
    "version": 2
   },
   "file_extension": ".py",
   "mimetype": "text/x-python",
   "name": "python",
   "nbconvert_exporter": "python",
   "pygments_lexer": "ipython2",
   "version": "2.7.6"
  }
 },
 "nbformat": 4,
 "nbformat_minor": 5
}
